{
 "cells": [
  {
   "cell_type": "markdown",
   "metadata": {
    "toc": true
   },
   "source": [
    "<h1>Table of Contents<span class=\"tocSkip\"></span></h1>\n",
    "<div class=\"toc\"><ul class=\"toc-item\"><li><span><a href=\"#imports\" data-toc-modified-id=\"imports-1\"><span class=\"toc-item-num\">1&nbsp;&nbsp;</span>imports</a></span></li><li><span><a href=\"#method\" data-toc-modified-id=\"method-2\"><span class=\"toc-item-num\">2&nbsp;&nbsp;</span>method</a></span></li><li><span><a href=\"#load-data\" data-toc-modified-id=\"load-data-3\"><span class=\"toc-item-num\">3&nbsp;&nbsp;</span>load data</a></span></li></ul></div>"
   ]
  },
  {
   "cell_type": "markdown",
   "metadata": {},
   "source": [
    "# imports"
   ]
  },
  {
   "cell_type": "code",
   "execution_count": 6,
   "metadata": {
    "ExecuteTime": {
     "end_time": "2020-10-22T10:26:36.248772Z",
     "start_time": "2020-10-22T10:26:36.243269Z"
    }
   },
   "outputs": [],
   "source": [
    "import json\n",
    "import pdb\n",
    "import codecs\n",
    "import pdb\n",
    "import pandas as pd\n",
    "import os\n",
    "import numpy as np\n"
   ]
  },
  {
   "cell_type": "markdown",
   "metadata": {},
   "source": [
    "# method"
   ]
  },
  {
   "cell_type": "code",
   "execution_count": 13,
   "metadata": {
    "ExecuteTime": {
     "end_time": "2020-10-22T10:29:34.420278Z",
     "start_time": "2020-10-22T10:29:34.409238Z"
    }
   },
   "outputs": [],
   "source": [
    "def get_data(path):\n",
    "    tweets = []\n",
    "    #files = ['racism.json', 'neither.json', 'sexism.json']\n",
    "    files = ['racism.json', 'sexism.json', 'amateur_expert.json']\n",
    "    for file in files:\n",
    "        with open(path + file, 'r', encoding='utf-8') as f:\n",
    "            data = f.readlines()\n",
    "        \n",
    "        for line in data:\n",
    "            tweet_full = json.loads(line)\n",
    "            tweets.append({\n",
    "                'id': tweet_full['id'],\n",
    "                'text': tweet_full['text'].lower(),\n",
    "                'label': tweet_full['Annotation'].lower(),\n",
    "                'name': tweet_full['user']['name'].split()[0].lower()\n",
    "                })\n",
    "\n",
    "    return tweets\n",
    "\n",
    "\n",
    "def get_data_dataframe(data):\n",
    "    return pd.DataFrame.from_dict(data)\n"
   ]
  },
  {
   "cell_type": "markdown",
   "metadata": {},
   "source": [
    "# load data"
   ]
  },
  {
   "cell_type": "code",
   "execution_count": 11,
   "metadata": {
    "ExecuteTime": {
     "end_time": "2020-10-22T10:29:18.590131Z",
     "start_time": "2020-10-22T10:29:18.586141Z"
    }
   },
   "outputs": [],
   "source": [
    "DATA_PATH = \"dataset/\""
   ]
  },
  {
   "cell_type": "code",
   "execution_count": 15,
   "metadata": {
    "ExecuteTime": {
     "end_time": "2020-10-22T10:29:48.212119Z",
     "start_time": "2020-10-22T10:29:46.314953Z"
    }
   },
   "outputs": [],
   "source": [
    "tweets = get_data(DATA_PATH)\n",
    "tweets_df = get_data_dataframe(tweets)\n",
    "\n",
    "# saving the dataframe\n",
    "tweets_df.to_pickle(DATA_PATH + \"tweets.pkl\")\n"
   ]
  },
  {
   "cell_type": "code",
   "execution_count": 17,
   "metadata": {
    "ExecuteTime": {
     "end_time": "2020-10-22T10:30:18.588504Z",
     "start_time": "2020-10-22T10:30:18.569156Z"
    }
   },
   "outputs": [
    {
     "data": {
      "text/plain": [
       "(12315, 4)"
      ]
     },
     "execution_count": 17,
     "metadata": {},
     "output_type": "execute_result"
    }
   ],
   "source": [
    "tweets_df.shape"
   ]
  },
  {
   "cell_type": "code",
   "execution_count": 24,
   "metadata": {
    "ExecuteTime": {
     "end_time": "2020-10-22T10:36:10.639387Z",
     "start_time": "2020-10-22T10:36:10.611945Z"
    }
   },
   "outputs": [
    {
     "data": {
      "text/html": [
       "<div>\n",
       "<style scoped>\n",
       "    .dataframe tbody tr th:only-of-type {\n",
       "        vertical-align: middle;\n",
       "    }\n",
       "\n",
       "    .dataframe tbody tr th {\n",
       "        vertical-align: top;\n",
       "    }\n",
       "\n",
       "    .dataframe thead th {\n",
       "        text-align: right;\n",
       "    }\n",
       "</style>\n",
       "<table border=\"1\" class=\"dataframe\">\n",
       "  <thead>\n",
       "    <tr style=\"text-align: right;\">\n",
       "      <th></th>\n",
       "      <th>id</th>\n",
       "      <th>text</th>\n",
       "      <th>label</th>\n",
       "      <th>name</th>\n",
       "    </tr>\n",
       "  </thead>\n",
       "  <tbody>\n",
       "    <tr>\n",
       "      <th>11512</th>\n",
       "      <td>594803951700082688</td>\n",
       "      <td>i still love you, tech workers. but if you liv...</td>\n",
       "      <td>neither</td>\n",
       "      <td>misandrist</td>\n",
       "    </tr>\n",
       "    <tr>\n",
       "      <th>10188</th>\n",
       "      <td>572345888258981888</td>\n",
       "      <td>there's more moisture in those spatchcocks tha...</td>\n",
       "      <td>sexism</td>\n",
       "      <td>sir</td>\n",
       "    </tr>\n",
       "    <tr>\n",
       "      <th>4071</th>\n",
       "      <td>398649355055288321</td>\n",
       "      <td>lol oh you *tee hee hee* @akidaffendi yo fyi, ...</td>\n",
       "      <td>sexism</td>\n",
       "      <td>@yesyouresexist</td>\n",
       "    </tr>\n",
       "    <tr>\n",
       "      <th>7856</th>\n",
       "      <td>574295125569884160</td>\n",
       "      <td>need a way to switch btwn sets of tabs. have a...</td>\n",
       "      <td>neither</td>\n",
       "      <td>misandrist</td>\n",
       "    </tr>\n",
       "    <tr>\n",
       "      <th>6585</th>\n",
       "      <td>595377051978215424</td>\n",
       "      <td>@krainboltgreene right now, i'm feeling pretty...</td>\n",
       "      <td>neither</td>\n",
       "      <td>misandrist</td>\n",
       "    </tr>\n",
       "    <tr>\n",
       "      <th>2773</th>\n",
       "      <td>575954545907355648</td>\n",
       "      <td>rt @babybrucewayne: every time i see kat's fac...</td>\n",
       "      <td>sexism</td>\n",
       "      <td>jigglypuff</td>\n",
       "    </tr>\n",
       "    <tr>\n",
       "      <th>8550</th>\n",
       "      <td>566640982910062593</td>\n",
       "      <td>it's difficult deciding to call out something ...</td>\n",
       "      <td>neither</td>\n",
       "      <td>misandrist</td>\n",
       "    </tr>\n",
       "    <tr>\n",
       "      <th>11545</th>\n",
       "      <td>603649099531943937</td>\n",
       "      <td>thank you, uncle, brother, male cousin, father...</td>\n",
       "      <td>sexism</td>\n",
       "      <td>disgruntledblkfemale</td>\n",
       "    </tr>\n",
       "    <tr>\n",
       "      <th>10586</th>\n",
       "      <td>568189637857910784</td>\n",
       "      <td>@lynnmagic let this be the start of a new tren...</td>\n",
       "      <td>neither</td>\n",
       "      <td>misandrist</td>\n",
       "    </tr>\n",
       "    <tr>\n",
       "      <th>3096</th>\n",
       "      <td>563835921628688384</td>\n",
       "      <td>.@scarmichael18 @shaner38 she will often not k...</td>\n",
       "      <td>sexism</td>\n",
       "      <td>male</td>\n",
       "    </tr>\n",
       "  </tbody>\n",
       "</table>\n",
       "</div>"
      ],
      "text/plain": [
       "                       id                                               text  \\\n",
       "11512  594803951700082688  i still love you, tech workers. but if you liv...   \n",
       "10188  572345888258981888  there's more moisture in those spatchcocks tha...   \n",
       "4071   398649355055288321  lol oh you *tee hee hee* @akidaffendi yo fyi, ...   \n",
       "7856   574295125569884160  need a way to switch btwn sets of tabs. have a...   \n",
       "6585   595377051978215424  @krainboltgreene right now, i'm feeling pretty...   \n",
       "2773   575954545907355648  rt @babybrucewayne: every time i see kat's fac...   \n",
       "8550   566640982910062593  it's difficult deciding to call out something ...   \n",
       "11545  603649099531943937  thank you, uncle, brother, male cousin, father...   \n",
       "10586  568189637857910784  @lynnmagic let this be the start of a new tren...   \n",
       "3096   563835921628688384  .@scarmichael18 @shaner38 she will often not k...   \n",
       "\n",
       "         label                  name  \n",
       "11512  neither            misandrist  \n",
       "10188   sexism                   sir  \n",
       "4071    sexism       @yesyouresexist  \n",
       "7856   neither            misandrist  \n",
       "6585   neither            misandrist  \n",
       "2773    sexism            jigglypuff  \n",
       "8550   neither            misandrist  \n",
       "11545   sexism  disgruntledblkfemale  \n",
       "10586  neither            misandrist  \n",
       "3096    sexism                  male  "
      ]
     },
     "execution_count": 24,
     "metadata": {},
     "output_type": "execute_result"
    }
   ],
   "source": [
    "tweets_df.sample(10)"
   ]
  },
  {
   "cell_type": "code",
   "execution_count": 23,
   "metadata": {
    "ExecuteTime": {
     "end_time": "2020-10-22T10:35:56.092574Z",
     "start_time": "2020-10-22T10:35:52.814958Z"
    },
    "scrolled": true
   },
   "outputs": [
    {
     "name": "stdout",
     "output_type": "stream",
     "text": [
      "**found**  muslims\n",
      "**found**  muslims\n",
      "**found**  muslims\n",
      "**found**  muslim\n",
      "**found**  muslim\n",
      "**found**  muslim\n",
      "**found**  muslims\n",
      "**found**  muslims\n",
      "**found**  muslims\n",
      "**found**  muslims\n",
      "**found**  muslims\n",
      "**found**  muslims\n",
      "**found**  muslim\n",
      "**found**  muslims\n",
      "**found**  jews\n",
      "**found**  muslim\n",
      "**found**  muslims\n",
      "**found**  muslim\n",
      "**found**  muslim\n",
      "**found**  muslim\n",
      "**found**  muslim\n",
      "**found**  muslims\n",
      "**found**  muslim\n",
      "**found**  muslims\n",
      "**found**  jews\n",
      "**found**  muslims\n",
      "**found**  muslims\n",
      "**found**  muslim\n",
      "**found**  muslims\n",
      "**found**  muslims\n",
      "**found**  muslims\n",
      "**found**  muslims\n",
      "**found**  muslim\n",
      "**found**  muslim\n",
      "**found**  muslim\n",
      "**found**  christians\n",
      "**found**  muslim\n",
      "**found**  jews\n",
      "**found**  muslims\n",
      "**found**  jews\n",
      "**found**  jews\n",
      "len Racist sentences: 41\n"
     ]
    }
   ],
   "source": [
    "# Checks whether a sentence contains a racial word or not\n",
    "racial_words = ['hindu', 'muslim', 'jew','christian', 'hindus', 'muslims', 'jews','christians']\n",
    "racial_sentences = []\n",
    "\n",
    "for i, row in tweets_df.iterrows():\n",
    "    if '#' in row['text']:\n",
    "        #print \"TEXT:\", row['text']\n",
    "        words = row['text'].split(' ')\n",
    "        fl = 0\n",
    "        for w in words:\n",
    "            if w.lower() in racist_words:\n",
    "                print(\"**found** \", w)\n",
    "                racial_sentences.append(row['text'])\n",
    "                break\n",
    "            \n",
    "print(\"len Racist sentences:\", len(racial_sentences))            "
   ]
  }
 ],
 "metadata": {
  "kernelspec": {
   "display_name": "Python 3",
   "language": "python",
   "name": "python3"
  },
  "language_info": {
   "codemirror_mode": {
    "name": "ipython",
    "version": 3
   },
   "file_extension": ".py",
   "mimetype": "text/x-python",
   "name": "python",
   "nbconvert_exporter": "python",
   "pygments_lexer": "ipython3",
   "version": "3.7.3"
  },
  "toc": {
   "base_numbering": 1,
   "nav_menu": {},
   "number_sections": true,
   "sideBar": true,
   "skip_h1_title": false,
   "title_cell": "Table of Contents",
   "title_sidebar": "ToC",
   "toc_cell": true,
   "toc_position": {},
   "toc_section_display": true,
   "toc_window_display": true
  }
 },
 "nbformat": 4,
 "nbformat_minor": 2
}
