{
 "cells": [
  {
   "cell_type": "markdown",
   "metadata": {
    "toc": true
   },
   "source": [
    "<h1>Table of Contents<span class=\"tocSkip\"></span></h1>\n",
    "<div class=\"toc\"><ul class=\"toc-item\"><li><span><a href=\"#imports\" data-toc-modified-id=\"imports-1\"><span class=\"toc-item-num\">1&nbsp;&nbsp;</span>imports</a></span></li><li><span><a href=\"#method\" data-toc-modified-id=\"method-2\"><span class=\"toc-item-num\">2&nbsp;&nbsp;</span>method</a></span></li><li><span><a href=\"#load-data\" data-toc-modified-id=\"load-data-3\"><span class=\"toc-item-num\">3&nbsp;&nbsp;</span>load data</a></span><ul class=\"toc-item\"><li><span><a href=\"#check-some-tweets-with-racial-words\" data-toc-modified-id=\"check-some-tweets-with-racial-words-3.1\"><span class=\"toc-item-num\">3.1&nbsp;&nbsp;</span>check some tweets with racial words</a></span></li></ul></li></ul></div>"
   ]
  },
  {
   "cell_type": "markdown",
   "metadata": {},
   "source": [
    "# imports"
   ]
  },
  {
   "cell_type": "code",
   "execution_count": null,
   "metadata": {},
   "outputs": [],
   "source": [
    "import json\n",
    "import pdb\n",
    "import codecs\n",
    "import pdb\n",
    "import pandas as pd\n",
    "import os\n",
    "import numpy as np\n"
   ]
  },
  {
   "cell_type": "markdown",
   "metadata": {},
   "source": [
    "# method"
   ]
  },
  {
   "cell_type": "code",
   "execution_count": null,
   "metadata": {},
   "outputs": [],
   "source": [
    "def get_data(path):\n",
    "    tweets = []\n",
    "    #files = ['racism.json', 'neither.json', 'sexism.json']\n",
    "    files = ['racism.json', 'sexism.json', 'amateur_expert.json']\n",
    "    for file in files:\n",
    "        with open(path + file, 'r', encoding='utf-8') as f:\n",
    "            data = f.readlines()\n",
    "        \n",
    "        for line in data:\n",
    "            tweet_full = json.loads(line)\n",
    "            tweets.append({\n",
    "                'id': tweet_full['id'],\n",
    "                'text': tweet_full['text'].lower(),\n",
    "                'label': tweet_full['Annotation'].lower(),\n",
    "                'name': tweet_full['user']['name'].split()[0].lower()\n",
    "                })\n",
    "\n",
    "    return tweets\n",
    "\n",
    "\n",
    "def get_data_dataframe(data):\n",
    "    return pd.DataFrame.from_dict(data)\n"
   ]
  },
  {
   "cell_type": "markdown",
   "metadata": {},
   "source": [
    "# load data"
   ]
  },
  {
   "cell_type": "code",
   "execution_count": null,
   "metadata": {},
   "outputs": [],
   "source": [
    "DATA_PATH = \"dataset/\""
   ]
  },
  {
   "cell_type": "code",
   "execution_count": null,
   "metadata": {},
   "outputs": [],
   "source": [
    "tweets = get_data(DATA_PATH)\n",
    "tweets_df = get_data_dataframe(tweets)\n",
    "\n",
    "# saving the dataframe\n",
    "tweets_df.to_pickle(DATA_PATH + \"tweets.pkl\")\n"
   ]
  },
  {
   "cell_type": "code",
   "execution_count": null,
   "metadata": {},
   "outputs": [],
   "source": [
    "tweets_df.shape"
   ]
  },
  {
   "cell_type": "code",
   "execution_count": null,
   "metadata": {},
   "outputs": [],
   "source": [
    "tweets_df.sample(10)"
   ]
  },
  {
   "cell_type": "code",
   "execution_count": null,
   "metadata": {},
   "outputs": [],
   "source": [
    "tweets_df['label'].value_counts()"
   ]
  },
  {
   "cell_type": "code",
   "execution_count": null,
   "metadata": {},
   "outputs": [],
   "source": [
    "tweets_df['label'].value_counts(.1)"
   ]
  },
  {
   "cell_type": "markdown",
   "metadata": {},
   "source": [
    "## check some tweets with racial words"
   ]
  },
  {
   "cell_type": "code",
   "execution_count": null,
   "metadata": {
    "scrolled": true
   },
   "outputs": [],
   "source": [
    "# Checks whether a sentence contains a racial word or not\n",
    "racial_words = ['hindu', 'muslim', 'jew','christian', 'hindus', 'muslims', 'jews','christians']\n",
    "racial_sentences = []\n",
    "\n",
    "for i, row in tweets_df.iterrows():\n",
    "    if '#' in row['text']:\n",
    "        #print \"TEXT:\", row['text']\n",
    "        words = row['text'].split(' ')\n",
    "        fl = 0\n",
    "        for w in words:\n",
    "            if w.lower() in racist_words:\n",
    "                print(\"**found** \", w)\n",
    "                racial_sentences.append(row['text'])\n",
    "                break\n",
    "            \n",
    "print(\"len Racist sentences:\", len(racial_sentences))            "
   ]
  }
 ],
 "metadata": {
  "kernelspec": {
   "display_name": "Python 3",
   "language": "python",
   "name": "python3"
  },
  "language_info": {
   "codemirror_mode": {
    "name": "ipython",
    "version": 3
   },
   "file_extension": ".py",
   "mimetype": "text/x-python",
   "name": "python",
   "nbconvert_exporter": "python",
   "pygments_lexer": "ipython3",
   "version": "3.7.3"
  },
  "toc": {
   "base_numbering": 1,
   "nav_menu": {},
   "number_sections": true,
   "sideBar": true,
   "skip_h1_title": false,
   "title_cell": "Table of Contents",
   "title_sidebar": "ToC",
   "toc_cell": true,
   "toc_position": {},
   "toc_section_display": true,
   "toc_window_display": true
  }
 },
 "nbformat": 4,
 "nbformat_minor": 2
}
