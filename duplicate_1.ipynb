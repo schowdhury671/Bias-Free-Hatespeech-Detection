{
 "cells": [
  {
   "cell_type": "code",
   "execution_count": 113,
   "metadata": {},
   "outputs": [],
   "source": [
    "from time import time\n",
    "import pandas as pd\n",
    "import numpy as np\n",
    "from gensim.models import KeyedVectors\n",
    "import re\n",
    "from nltk.corpus import stopwords\n",
    "from sklearn.model_selection import train_test_split\n",
    "import matplotlib.pyplot as plt\n",
    "import seaborn as sns\n",
    "\n",
    "import itertools\n",
    "import datetime\n",
    "\n",
    "from keras.preprocessing.sequence import pad_sequences\n",
    "from keras.models import Model\n",
    "from keras.layers import Input, Embedding, LSTM, Lambda\n",
    "import keras.backend as K\n",
    "from keras.optimizers import Adadelta\n",
    "from keras.callbacks import ModelCheckpoint\n",
    "from keras.layers import Bidirectional"
   ]
  },
  {
   "cell_type": "code",
   "execution_count": 2,
   "metadata": {},
   "outputs": [],
   "source": [
    "# /media/sathis/localdisk/workspace/nlp/GoogleNews-vectors-negative300.bin\n",
    "# GoogleNews-vectors-negative300.bin.gz"
   ]
  },
  {
   "cell_type": "code",
   "execution_count": 7,
   "metadata": {},
   "outputs": [],
   "source": [
    "TRAIN_CSV = 'test.csv'\n",
    "#TRAIN_CSV = 'sample.csv'\n",
    "EMBEDDING_FILE = '/media/sathis/localdisk/workspace/nlp/GoogleNews-vectors-negative300.bin.gz'\n"
   ]
  },
  {
   "cell_type": "code",
   "execution_count": 8,
   "metadata": {},
   "outputs": [
    {
     "data": {
      "text/plain": [
       "'/media/sathis/localdisk/workspace/nlp/GoogleNews-vectors-negative300.bin.gz'"
      ]
     },
     "execution_count": 8,
     "metadata": {},
     "output_type": "execute_result"
    }
   ],
   "source": [
    "EMBEDDING_FILE"
   ]
  },
  {
   "cell_type": "code",
   "execution_count": 9,
   "metadata": {},
   "outputs": [],
   "source": [
    "train_df = pd.read_csv(TRAIN_CSV)"
   ]
  },
  {
   "cell_type": "code",
   "execution_count": 10,
   "metadata": {
    "scrolled": true
   },
   "outputs": [],
   "source": [
    "questions_cols = ['question1', 'question2']\n",
    "\n",
    "maxSeqLength = 0\n",
    "word2vec = KeyedVectors.load_word2vec_format(EMBEDDING_FILE, binary=True)"
   ]
  },
  {
   "cell_type": "code",
   "execution_count": 24,
   "metadata": {},
   "outputs": [],
   "source": [
    "train_df = pd.read_csv(TRAIN_CSV)\n",
    "stops = set(stopwords.words('english'))"
   ]
  },
  {
   "cell_type": "code",
   "execution_count": 25,
   "metadata": {},
   "outputs": [
    {
     "data": {
      "text/html": [
       "<div>\n",
       "<style scoped>\n",
       "    .dataframe tbody tr th:only-of-type {\n",
       "        vertical-align: middle;\n",
       "    }\n",
       "\n",
       "    .dataframe tbody tr th {\n",
       "        vertical-align: top;\n",
       "    }\n",
       "\n",
       "    .dataframe thead th {\n",
       "        text-align: right;\n",
       "    }\n",
       "</style>\n",
       "<table border=\"1\" class=\"dataframe\">\n",
       "  <thead>\n",
       "    <tr style=\"text-align: right;\">\n",
       "      <th></th>\n",
       "      <th>id</th>\n",
       "      <th>qid1</th>\n",
       "      <th>qid2</th>\n",
       "      <th>question1</th>\n",
       "      <th>question2</th>\n",
       "      <th>is_duplicate</th>\n",
       "    </tr>\n",
       "  </thead>\n",
       "  <tbody>\n",
       "    <tr>\n",
       "      <th>0</th>\n",
       "      <td>0</td>\n",
       "      <td>1</td>\n",
       "      <td>2</td>\n",
       "      <td>What is the step by step guide to invest in sh...</td>\n",
       "      <td>What is the step by step guide to invest in sh...</td>\n",
       "      <td>0</td>\n",
       "    </tr>\n",
       "    <tr>\n",
       "      <th>1</th>\n",
       "      <td>1</td>\n",
       "      <td>3</td>\n",
       "      <td>4</td>\n",
       "      <td>What is the story of Kohinoor (Koh-i-Noor) Dia...</td>\n",
       "      <td>What would happen if the Indian government sto...</td>\n",
       "      <td>0</td>\n",
       "    </tr>\n",
       "    <tr>\n",
       "      <th>2</th>\n",
       "      <td>2</td>\n",
       "      <td>5</td>\n",
       "      <td>6</td>\n",
       "      <td>How can I increase the speed of my internet co...</td>\n",
       "      <td>How can Internet speed be increased by hacking...</td>\n",
       "      <td>0</td>\n",
       "    </tr>\n",
       "  </tbody>\n",
       "</table>\n",
       "</div>"
      ],
      "text/plain": [
       "   id  qid1  qid2                                          question1  \\\n",
       "0   0     1     2  What is the step by step guide to invest in sh...   \n",
       "1   1     3     4  What is the story of Kohinoor (Koh-i-Noor) Dia...   \n",
       "2   2     5     6  How can I increase the speed of my internet co...   \n",
       "\n",
       "                                           question2  is_duplicate  \n",
       "0  What is the step by step guide to invest in sh...             0  \n",
       "1  What would happen if the Indian government sto...             0  \n",
       "2  How can Internet speed be increased by hacking...             0  "
      ]
     },
     "execution_count": 25,
     "metadata": {},
     "output_type": "execute_result"
    }
   ],
   "source": [
    "train_df"
   ]
  },
  {
   "cell_type": "code",
   "execution_count": 26,
   "metadata": {},
   "outputs": [],
   "source": [
    "def stringToWordList(text):\n",
    "    \n",
    "#     print(\"senetence \",text)\n",
    "    \n",
    "    text = str(text)\n",
    "    text = text.lower()\n",
    "    text = re.sub(r\"[^A-Za-z0-9^,!.\\/'+-=]\", \" \", text)\n",
    "    text = re.sub(r\"what's\", \"what is \", text)\n",
    "    text = re.sub(r\"\\'s\", \" \", text)\n",
    "    text = re.sub(r\"\\'ve\", \" have \", text)\n",
    "    text = re.sub(r\"can't\", \"cannot \", text)\n",
    "    text = re.sub(r\"n't\", \" not \", text)\n",
    "    text = re.sub(r\"i'm\", \"i am \", text)\n",
    "    text = re.sub(r\"\\'re\", \" are \", text)\n",
    "    text = re.sub(r\"\\'d\", \" would \", text)\n",
    "    text = re.sub(r\"\\'ll\", \" will \", text)\n",
    "    text = re.sub(r\"!\", \" ! \", text)\n",
    "    text = re.sub(r\"\\(\", \" ( \", text)\n",
    "    text = re.sub(r\"\\)\", \" ) \", text)\n",
    "    text = re.sub(r\"\\?\", \" ? \", text)\n",
    "    text = re.sub(r\",\", \" \", text)\n",
    "    text = re.sub(r\"\\.\", \" \", text)\n",
    "    text = re.sub(r\"!\", \" ! \", text)\n",
    "    text = re.sub(r\"\\/\", \" \", text)\n",
    "    text = re.sub(r\"\\^\", \" ^ \", text)\n",
    "    text = re.sub(r\"\\+\", \" + \", text)\n",
    "    text = re.sub(r\"\\-\", \" - \", text)\n",
    "    text = re.sub(r\"\\=\", \" = \", text)\n",
    "    text = re.sub(r\"'\", \" \", text)\n",
    "    text = re.sub(r\"(\\d+)(k)\", r\"\\g<1>000\", text)\n",
    "    text = re.sub(r\":\", \" : \", text)\n",
    "    text = re.sub(r\" e g \", \" eg \", text)\n",
    "    text = re.sub(r\" b g \", \" bg \", text)\n",
    "    text = re.sub(r\" u s \", \" american \", text)\n",
    "    text = re.sub(r\"\\0s\", \"0\", text)\n",
    "    text = re.sub(r\" 9 11 \", \"911\", text)\n",
    "    text = re.sub(r\"e - mail\", \"email\", text)\n",
    "    text = re.sub(r\"j k\", \"jk\", text)\n",
    "    text = re.sub(r\"\\s{2,}\", \" \", text)\n",
    "    text = text.split()\n",
    "    \n",
    "    \n",
    "    \n",
    "    return text"
   ]
  },
  {
   "cell_type": "code",
   "execution_count": null,
   "metadata": {},
   "outputs": [],
   "source": []
  },
  {
   "cell_type": "code",
   "execution_count": 27,
   "metadata": {},
   "outputs": [],
   "source": [
    "questions_cols = ['question1', 'question2']\n",
    "vocab = dict()\n",
    "maxSeqLength = 0\n"
   ]
  },
  {
   "cell_type": "code",
   "execution_count": 28,
   "metadata": {},
   "outputs": [
    {
     "data": {
      "text/plain": [
       "['question1', 'question2']"
      ]
     },
     "execution_count": 28,
     "metadata": {},
     "output_type": "execute_result"
    }
   ],
   "source": [
    "questions_cols"
   ]
  },
  {
   "cell_type": "code",
   "execution_count": 29,
   "metadata": {
    "scrolled": false
   },
   "outputs": [
    {
     "name": "stdout",
     "output_type": "stream",
     "text": [
      "0 what\n",
      "0 is\n",
      "0 the\n",
      "0 step\n",
      "0 by\n",
      "0 step\n",
      "0 guide\n",
      "0 to\n",
      "0 invest\n",
      "0 in\n",
      "0 share\n",
      "0 market\n",
      "0 in\n",
      "0 india\n",
      "q2num [1, 2, 3, 4, 5, 4, 6, 7, 8, 9, 10, 8, 11]\n",
      "0 what\n",
      "0 is\n",
      "0 the\n",
      "0 step\n",
      "0 by\n",
      "0 step\n",
      "0 guide\n",
      "0 to\n",
      "0 invest\n",
      "0 in\n",
      "0 share\n",
      "0 market\n",
      "q2num [1, 2, 3, 4, 5, 4, 6, 7, 8, 9, 10]\n",
      "1 what\n",
      "1 is\n",
      "1 the\n",
      "1 story\n",
      "1 of\n",
      "1 kohinoor\n",
      "1 koh\n",
      "1 -\n",
      "1 i\n",
      "1 -\n",
      "1 noor\n",
      "1 diamond\n",
      "q2num [1, 2, 3, 12, 13, 14, 15, 16, 15, 17, 18]\n",
      "1 what\n",
      "1 would\n",
      "1 happen\n",
      "1 if\n",
      "1 the\n",
      "1 indian\n",
      "1 government\n",
      "1 stole\n",
      "1 the\n",
      "1 kohinoor\n",
      "1 koh\n",
      "1 -\n",
      "1 i\n",
      "1 -\n",
      "1 noor\n",
      "1 diamond\n",
      "1 back\n",
      "q2num [1, 19, 20, 21, 3, 22, 23, 24, 3, 13, 14, 15, 16, 15, 17, 18, 25]\n",
      "2 how\n",
      "2 can\n",
      "2 i\n",
      "2 increase\n",
      "2 the\n",
      "2 speed\n",
      "2 of\n",
      "2 my\n",
      "2 internet\n",
      "2 connection\n",
      "2 while\n",
      "2 using\n",
      "2 a\n",
      "2 vpn\n",
      "q2num [26, 27, 16, 28, 3, 29, 30, 31, 32, 33, 34, 35]\n",
      "2 how\n",
      "2 can\n",
      "2 internet\n",
      "2 speed\n",
      "2 be\n",
      "2 increased\n",
      "2 by\n",
      "2 hacking\n",
      "2 through\n",
      "2 dns\n",
      "q2num [26, 27, 31, 29, 36, 37, 5, 38, 39, 40]\n"
     ]
    }
   ],
   "source": [
    "for index, row in train_df.iterrows():\n",
    "    for question in questions_cols:\n",
    "        q2num = []\n",
    "        for word in stringToWordList(row[question]):\n",
    "            print(index,word)\n",
    "            if word in stops and word not in word2vec.vocab:\n",
    "                continue\n",
    "            if word not in vocab:               \n",
    "                vocab[word] = len(vocab)+1\n",
    "            q2num.append(vocab[word])\n",
    "        \n",
    "        print(\"q2num\",q2num)\n",
    "        train_df.at[index,question]=q2num\n",
    "        if len(q2num) > maxSeqLength:\n",
    "            maxSeqLength = len(q2num)"
   ]
  },
  {
   "cell_type": "code",
   "execution_count": 31,
   "metadata": {},
   "outputs": [
    {
     "data": {
      "text/plain": [
       "[26, 27, 31, 29, 36, 37, 5, 38, 39, 40]"
      ]
     },
     "execution_count": 31,
     "metadata": {},
     "output_type": "execute_result"
    }
   ],
   "source": [
    "q2num"
   ]
  },
  {
   "cell_type": "code",
   "execution_count": 32,
   "metadata": {},
   "outputs": [
    {
     "data": {
      "text/plain": [
       "40"
      ]
     },
     "execution_count": 32,
     "metadata": {},
     "output_type": "execute_result"
    }
   ],
   "source": [
    "len(vocab)"
   ]
  },
  {
   "cell_type": "code",
   "execution_count": 33,
   "metadata": {},
   "outputs": [
    {
     "data": {
      "text/html": [
       "<div>\n",
       "<style scoped>\n",
       "    .dataframe tbody tr th:only-of-type {\n",
       "        vertical-align: middle;\n",
       "    }\n",
       "\n",
       "    .dataframe tbody tr th {\n",
       "        vertical-align: top;\n",
       "    }\n",
       "\n",
       "    .dataframe thead th {\n",
       "        text-align: right;\n",
       "    }\n",
       "</style>\n",
       "<table border=\"1\" class=\"dataframe\">\n",
       "  <thead>\n",
       "    <tr style=\"text-align: right;\">\n",
       "      <th></th>\n",
       "      <th>id</th>\n",
       "      <th>qid1</th>\n",
       "      <th>qid2</th>\n",
       "      <th>question1</th>\n",
       "      <th>question2</th>\n",
       "      <th>is_duplicate</th>\n",
       "    </tr>\n",
       "  </thead>\n",
       "  <tbody>\n",
       "    <tr>\n",
       "      <th>0</th>\n",
       "      <td>0</td>\n",
       "      <td>1</td>\n",
       "      <td>2</td>\n",
       "      <td>[1, 2, 3, 4, 5, 4, 6, 7, 8, 9, 10, 8, 11]</td>\n",
       "      <td>[1, 2, 3, 4, 5, 4, 6, 7, 8, 9, 10]</td>\n",
       "      <td>0</td>\n",
       "    </tr>\n",
       "    <tr>\n",
       "      <th>1</th>\n",
       "      <td>1</td>\n",
       "      <td>3</td>\n",
       "      <td>4</td>\n",
       "      <td>[1, 2, 3, 12, 13, 14, 15, 16, 15, 17, 18]</td>\n",
       "      <td>[1, 19, 20, 21, 3, 22, 23, 24, 3, 13, 14, 15, ...</td>\n",
       "      <td>0</td>\n",
       "    </tr>\n",
       "    <tr>\n",
       "      <th>2</th>\n",
       "      <td>2</td>\n",
       "      <td>5</td>\n",
       "      <td>6</td>\n",
       "      <td>[26, 27, 16, 28, 3, 29, 30, 31, 32, 33, 34, 35]</td>\n",
       "      <td>[26, 27, 31, 29, 36, 37, 5, 38, 39, 40]</td>\n",
       "      <td>0</td>\n",
       "    </tr>\n",
       "  </tbody>\n",
       "</table>\n",
       "</div>"
      ],
      "text/plain": [
       "   id  qid1  qid2                                        question1  \\\n",
       "0   0     1     2        [1, 2, 3, 4, 5, 4, 6, 7, 8, 9, 10, 8, 11]   \n",
       "1   1     3     4        [1, 2, 3, 12, 13, 14, 15, 16, 15, 17, 18]   \n",
       "2   2     5     6  [26, 27, 16, 28, 3, 29, 30, 31, 32, 33, 34, 35]   \n",
       "\n",
       "                                           question2  is_duplicate  \n",
       "0                 [1, 2, 3, 4, 5, 4, 6, 7, 8, 9, 10]             0  \n",
       "1  [1, 19, 20, 21, 3, 22, 23, 24, 3, 13, 14, 15, ...             0  \n",
       "2            [26, 27, 31, 29, 36, 37, 5, 38, 39, 40]             0  "
      ]
     },
     "execution_count": 33,
     "metadata": {},
     "output_type": "execute_result"
    }
   ],
   "source": [
    "train_df"
   ]
  },
  {
   "cell_type": "code",
   "execution_count": 44,
   "metadata": {},
   "outputs": [
    {
     "data": {
      "text/plain": [
       "40"
      ]
     },
     "execution_count": 44,
     "metadata": {},
     "output_type": "execute_result"
    }
   ],
   "source": [
    "maxSeqLength\n",
    "len(vocab)"
   ]
  },
  {
   "cell_type": "code",
   "execution_count": 35,
   "metadata": {},
   "outputs": [],
   "source": [
    "embeddingDim = 300\n",
    "embeddings = 1 * np.random.randn(len(vocab) + 1, embeddingDim)\n",
    "embeddings[0] = 0"
   ]
  },
  {
   "cell_type": "code",
   "execution_count": 122,
   "metadata": {},
   "outputs": [
    {
     "data": {
      "text/plain": [
       "41"
      ]
     },
     "execution_count": 122,
     "metadata": {},
     "output_type": "execute_result"
    }
   ],
   "source": [
    "len(embeddings)"
   ]
  },
  {
   "cell_type": "code",
   "execution_count": 53,
   "metadata": {},
   "outputs": [
    {
     "data": {
      "text/plain": [
       "array([ 0.13964844, -0.00616455,  0.21484375,  0.07275391, -0.16113281,\n",
       "        0.07568359,  0.16796875, -0.20117188,  0.12597656,  0.00915527,\n",
       "        0.05249023, -0.15136719, -0.02758789,  0.04199219, -0.234375  ,\n",
       "        0.13867188, -0.02600098,  0.07910156,  0.02746582, -0.13085938,\n",
       "       -0.02478027,  0.10009766, -0.07910156, -0.07714844,  0.03759766,\n",
       "        0.16894531,  0.05371094, -0.05200195,  0.14453125, -0.04370117,\n",
       "       -0.12597656,  0.06884766, -0.10595703, -0.14550781, -0.00331116,\n",
       "        0.01367188,  0.13964844,  0.01660156,  0.03417969,  0.16113281,\n",
       "       -0.01080322,  0.06689453,  0.06835938, -0.15136719, -0.16894531,\n",
       "        0.03295898, -0.06884766,  0.06787109, -0.07373047,  0.08300781,\n",
       "        0.05761719,  0.14550781, -0.11865234, -0.13671875,  0.12402344,\n",
       "        0.04296875, -0.11962891, -0.08154297,  0.06494141, -0.05639648,\n",
       "       -0.04394531,  0.1484375 , -0.07714844,  0.04614258, -0.02624512,\n",
       "       -0.06591797,  0.04980469,  0.08886719, -0.01647949, -0.02294922,\n",
       "        0.10546875,  0.04199219,  0.11035156, -0.08251953, -0.13574219,\n",
       "       -0.07324219,  0.1015625 ,  0.05371094, -0.07275391,  0.08496094,\n",
       "       -0.04443359, -0.078125  ,  0.08398438, -0.00613403, -0.20898438,\n",
       "       -0.25      ,  0.00485229,  0.22363281,  0.01550293,  0.04223633,\n",
       "        0.07861328,  0.203125  , -0.25195312,  0.01867676,  0.03564453,\n",
       "       -0.09863281,  0.01745605,  0.12597656, -0.04589844, -0.10253906,\n",
       "       -0.10742188, -0.00558472,  0.05517578, -0.10791016, -0.1015625 ,\n",
       "        0.0222168 , -0.07958984,  0.04833984, -0.06201172, -0.11132812,\n",
       "        0.16210938, -0.09716797, -0.03222656,  0.08056641,  0.21386719,\n",
       "       -0.03759766,  0.06542969, -0.15527344,  0.00300598, -0.04907227,\n",
       "       -0.23730469,  0.13378906,  0.10253906,  0.07568359,  0.01330566,\n",
       "       -0.02770996, -0.27929688,  0.03112793,  0.00092316, -0.10107422,\n",
       "       -0.23730469, -0.21484375, -0.08496094, -0.16894531,  0.04370117,\n",
       "       -0.20996094,  0.00100708,  0.07617188, -0.03198242,  0.14160156,\n",
       "        0.15820312, -0.01275635,  0.04150391, -0.03393555,  0.12011719,\n",
       "       -0.08789062, -0.03735352, -0.16503906, -0.14257812, -0.05200195,\n",
       "        0.06542969,  0.22070312, -0.34570312,  0.10400391,  0.05053711,\n",
       "       -0.02368164, -0.13671875, -0.13476562,  0.09863281,  0.06689453,\n",
       "       -0.07666016,  0.20214844, -0.01806641, -0.06201172,  0.00402832,\n",
       "       -0.04174805,  0.06835938, -0.04882812,  0.12890625,  0.14941406,\n",
       "       -0.07763672,  0.09179688,  0.03686523, -0.08789062, -0.01721191,\n",
       "        0.15625   ,  0.16210938, -0.11328125, -0.00830078, -0.11962891,\n",
       "       -0.16601562, -0.12792969,  0.03759766, -0.16601562,  0.10449219,\n",
       "       -0.01220703, -0.01940918,  0.10009766,  0.0098877 ,  0.05957031,\n",
       "        0.17285156,  0.1484375 ,  0.21191406, -0.06835938, -0.04443359,\n",
       "       -0.12158203,  0.03088379,  0.02392578, -0.05297852, -0.09912109,\n",
       "       -0.00375366,  0.15625   , -0.06884766,  0.10205078,  0.00448608,\n",
       "        0.05053711, -0.11035156, -0.15332031,  0.03808594, -0.05249023,\n",
       "        0.01226807,  0.08935547,  0.06005859, -0.08007812, -0.24902344,\n",
       "       -0.01953125,  0.25390625,  0.00915527, -0.04345703,  0.0612793 ,\n",
       "       -0.06884766,  0.1015625 , -0.09326172, -0.07763672,  0.15625   ,\n",
       "       -0.10546875,  0.0625    ,  0.13574219, -0.06982422,  0.12792969,\n",
       "        0.05957031, -0.14550781,  0.08251953, -0.12792969,  0.14648438,\n",
       "       -0.15332031, -0.01708984, -0.01672363,  0.07958984,  0.01794434,\n",
       "        0.04199219, -0.12353516,  0.03320312, -0.11083984, -0.09716797,\n",
       "       -0.07568359,  0.14453125, -0.10351562,  0.05566406,  0.03369141,\n",
       "        0.01422119,  0.17382812,  0.10595703,  0.03930664,  0.27539062,\n",
       "       -0.14453125,  0.01672363,  0.03369141, -0.06542969, -0.1640625 ,\n",
       "        0.00909424, -0.07910156, -0.14453125,  0.03979492, -0.05761719,\n",
       "        0.078125  ,  0.12402344,  0.00671387, -0.19140625,  0.04248047,\n",
       "        0.02844238,  0.10351562,  0.33007812,  0.25      , -0.14160156,\n",
       "        0.04003906, -0.00201416, -0.12255859, -0.05297852,  0.02587891,\n",
       "        0.11669922, -0.07861328,  0.03320312,  0.14257812, -0.02856445,\n",
       "       -0.06494141,  0.03955078, -0.07421875, -0.07080078,  0.07714844,\n",
       "       -0.1015625 , -0.08300781, -0.11767578, -0.09619141, -0.203125  ,\n",
       "       -0.02490234,  0.19335938,  0.05712891,  0.09960938, -0.234375  ])"
      ]
     },
     "execution_count": 53,
     "metadata": {},
     "output_type": "execute_result"
    }
   ],
   "source": [
    "embeddings[1]"
   ]
  },
  {
   "cell_type": "code",
   "execution_count": 61,
   "metadata": {},
   "outputs": [],
   "source": [
    "for word, index in vocab.items():\n",
    "        if word in word2vec.vocab:\n",
    "            embeddings[index] = word2vec.word_vec(word)"
   ]
  },
  {
   "cell_type": "code",
   "execution_count": 64,
   "metadata": {},
   "outputs": [
    {
     "data": {
      "text/plain": [
       "array([ 0.13964844, -0.00616455,  0.21484375,  0.07275391, -0.16113281,\n",
       "        0.07568359,  0.16796875, -0.20117188,  0.12597656,  0.00915527,\n",
       "        0.05249023, -0.15136719, -0.02758789,  0.04199219, -0.234375  ,\n",
       "        0.13867188, -0.02600098,  0.07910156,  0.02746582, -0.13085938,\n",
       "       -0.02478027,  0.10009766, -0.07910156, -0.07714844,  0.03759766,\n",
       "        0.16894531,  0.05371094, -0.05200195,  0.14453125, -0.04370117,\n",
       "       -0.12597656,  0.06884766, -0.10595703, -0.14550781, -0.00331116,\n",
       "        0.01367188,  0.13964844,  0.01660156,  0.03417969,  0.16113281,\n",
       "       -0.01080322,  0.06689453,  0.06835938, -0.15136719, -0.16894531,\n",
       "        0.03295898, -0.06884766,  0.06787109, -0.07373047,  0.08300781,\n",
       "        0.05761719,  0.14550781, -0.11865234, -0.13671875,  0.12402344,\n",
       "        0.04296875, -0.11962891, -0.08154297,  0.06494141, -0.05639648,\n",
       "       -0.04394531,  0.1484375 , -0.07714844,  0.04614258, -0.02624512,\n",
       "       -0.06591797,  0.04980469,  0.08886719, -0.01647949, -0.02294922,\n",
       "        0.10546875,  0.04199219,  0.11035156, -0.08251953, -0.13574219,\n",
       "       -0.07324219,  0.1015625 ,  0.05371094, -0.07275391,  0.08496094,\n",
       "       -0.04443359, -0.078125  ,  0.08398438, -0.00613403, -0.20898438,\n",
       "       -0.25      ,  0.00485229,  0.22363281,  0.01550293,  0.04223633,\n",
       "        0.07861328,  0.203125  , -0.25195312,  0.01867676,  0.03564453,\n",
       "       -0.09863281,  0.01745605,  0.12597656, -0.04589844, -0.10253906,\n",
       "       -0.10742188, -0.00558472,  0.05517578, -0.10791016, -0.1015625 ,\n",
       "        0.0222168 , -0.07958984,  0.04833984, -0.06201172, -0.11132812,\n",
       "        0.16210938, -0.09716797, -0.03222656,  0.08056641,  0.21386719,\n",
       "       -0.03759766,  0.06542969, -0.15527344,  0.00300598, -0.04907227,\n",
       "       -0.23730469,  0.13378906,  0.10253906,  0.07568359,  0.01330566,\n",
       "       -0.02770996, -0.27929688,  0.03112793,  0.00092316, -0.10107422,\n",
       "       -0.23730469, -0.21484375, -0.08496094, -0.16894531,  0.04370117,\n",
       "       -0.20996094,  0.00100708,  0.07617188, -0.03198242,  0.14160156,\n",
       "        0.15820312, -0.01275635,  0.04150391, -0.03393555,  0.12011719,\n",
       "       -0.08789062, -0.03735352, -0.16503906, -0.14257812, -0.05200195,\n",
       "        0.06542969,  0.22070312, -0.34570312,  0.10400391,  0.05053711,\n",
       "       -0.02368164, -0.13671875, -0.13476562,  0.09863281,  0.06689453,\n",
       "       -0.07666016,  0.20214844, -0.01806641, -0.06201172,  0.00402832,\n",
       "       -0.04174805,  0.06835938, -0.04882812,  0.12890625,  0.14941406,\n",
       "       -0.07763672,  0.09179688,  0.03686523, -0.08789062, -0.01721191,\n",
       "        0.15625   ,  0.16210938, -0.11328125, -0.00830078, -0.11962891,\n",
       "       -0.16601562, -0.12792969,  0.03759766, -0.16601562,  0.10449219,\n",
       "       -0.01220703, -0.01940918,  0.10009766,  0.0098877 ,  0.05957031,\n",
       "        0.17285156,  0.1484375 ,  0.21191406, -0.06835938, -0.04443359,\n",
       "       -0.12158203,  0.03088379,  0.02392578, -0.05297852, -0.09912109,\n",
       "       -0.00375366,  0.15625   , -0.06884766,  0.10205078,  0.00448608,\n",
       "        0.05053711, -0.11035156, -0.15332031,  0.03808594, -0.05249023,\n",
       "        0.01226807,  0.08935547,  0.06005859, -0.08007812, -0.24902344,\n",
       "       -0.01953125,  0.25390625,  0.00915527, -0.04345703,  0.0612793 ,\n",
       "       -0.06884766,  0.1015625 , -0.09326172, -0.07763672,  0.15625   ,\n",
       "       -0.10546875,  0.0625    ,  0.13574219, -0.06982422,  0.12792969,\n",
       "        0.05957031, -0.14550781,  0.08251953, -0.12792969,  0.14648438,\n",
       "       -0.15332031, -0.01708984, -0.01672363,  0.07958984,  0.01794434,\n",
       "        0.04199219, -0.12353516,  0.03320312, -0.11083984, -0.09716797,\n",
       "       -0.07568359,  0.14453125, -0.10351562,  0.05566406,  0.03369141,\n",
       "        0.01422119,  0.17382812,  0.10595703,  0.03930664,  0.27539062,\n",
       "       -0.14453125,  0.01672363,  0.03369141, -0.06542969, -0.1640625 ,\n",
       "        0.00909424, -0.07910156, -0.14453125,  0.03979492, -0.05761719,\n",
       "        0.078125  ,  0.12402344,  0.00671387, -0.19140625,  0.04248047,\n",
       "        0.02844238,  0.10351562,  0.33007812,  0.25      , -0.14160156,\n",
       "        0.04003906, -0.00201416, -0.12255859, -0.05297852,  0.02587891,\n",
       "        0.11669922, -0.07861328,  0.03320312,  0.14257812, -0.02856445,\n",
       "       -0.06494141,  0.03955078, -0.07421875, -0.07080078,  0.07714844,\n",
       "       -0.1015625 , -0.08300781, -0.11767578, -0.09619141, -0.203125  ,\n",
       "       -0.02490234,  0.19335938,  0.05712891,  0.09960938, -0.234375  ])"
      ]
     },
     "execution_count": 64,
     "metadata": {},
     "output_type": "execute_result"
    }
   ],
   "source": [
    "embeddings[1]"
   ]
  },
  {
   "cell_type": "code",
   "execution_count": 66,
   "metadata": {},
   "outputs": [],
   "source": [
    "# word2vec.word_vec('what')"
   ]
  },
  {
   "cell_type": "code",
   "execution_count": 67,
   "metadata": {},
   "outputs": [],
   "source": [
    "# Split the data into Training set and Validation set\n",
    "test_size = 1\n",
    "validation_size = 1\n",
    "training_size = len(train_df) - validation_size"
   ]
  },
  {
   "cell_type": "code",
   "execution_count": 68,
   "metadata": {},
   "outputs": [
    {
     "data": {
      "text/plain": [
       "2"
      ]
     },
     "execution_count": 68,
     "metadata": {},
     "output_type": "execute_result"
    }
   ],
   "source": [
    "training_size"
   ]
  },
  {
   "cell_type": "code",
   "execution_count": 69,
   "metadata": {},
   "outputs": [],
   "source": [
    "X = train_df[questions_cols]\n",
    "Y = train_df['is_duplicate']"
   ]
  },
  {
   "cell_type": "code",
   "execution_count": 71,
   "metadata": {},
   "outputs": [
    {
     "data": {
      "text/plain": [
       "0    0\n",
       "1    0\n",
       "2    0\n",
       "Name: is_duplicate, dtype: int64"
      ]
     },
     "execution_count": 71,
     "metadata": {},
     "output_type": "execute_result"
    }
   ],
   "source": [
    "Y "
   ]
  },
  {
   "cell_type": "code",
   "execution_count": 73,
   "metadata": {},
   "outputs": [],
   "source": [
    "X_train_val, X_test, Y_train_val, Y_test = train_test_split(X, Y, test_size=test_size)\n",
    "X_train, X_validation, Y_train, Y_validation = train_test_split(X_train_val, Y_train_val, test_size=validation_size)\n"
   ]
  },
  {
   "cell_type": "code",
   "execution_count": 78,
   "metadata": {},
   "outputs": [
    {
     "data": {
      "text/html": [
       "<div>\n",
       "<style scoped>\n",
       "    .dataframe tbody tr th:only-of-type {\n",
       "        vertical-align: middle;\n",
       "    }\n",
       "\n",
       "    .dataframe tbody tr th {\n",
       "        vertical-align: top;\n",
       "    }\n",
       "\n",
       "    .dataframe thead th {\n",
       "        text-align: right;\n",
       "    }\n",
       "</style>\n",
       "<table border=\"1\" class=\"dataframe\">\n",
       "  <thead>\n",
       "    <tr style=\"text-align: right;\">\n",
       "      <th></th>\n",
       "      <th>question1</th>\n",
       "      <th>question2</th>\n",
       "    </tr>\n",
       "  </thead>\n",
       "  <tbody>\n",
       "    <tr>\n",
       "      <th>0</th>\n",
       "      <td>[1, 2, 3, 4, 5, 4, 6, 7, 8, 9, 10, 8, 11]</td>\n",
       "      <td>[1, 2, 3, 4, 5, 4, 6, 7, 8, 9, 10]</td>\n",
       "    </tr>\n",
       "  </tbody>\n",
       "</table>\n",
       "</div>"
      ],
      "text/plain": [
       "                                   question1  \\\n",
       "0  [1, 2, 3, 4, 5, 4, 6, 7, 8, 9, 10, 8, 11]   \n",
       "\n",
       "                            question2  \n",
       "0  [1, 2, 3, 4, 5, 4, 6, 7, 8, 9, 10]  "
      ]
     },
     "execution_count": 78,
     "metadata": {},
     "output_type": "execute_result"
    }
   ],
   "source": [
    "X_train"
   ]
  },
  {
   "cell_type": "code",
   "execution_count": 79,
   "metadata": {},
   "outputs": [],
   "source": [
    "#  Split to dicts\n",
    "X_train = {'left': X_train.question1, 'right': X_train.question2}\n",
    "X_test = {'left': X_test.question1, 'right': X_test.question2}\n",
    "X_validation = {'left': X_validation.question1, 'right': X_validation.question2}"
   ]
  },
  {
   "cell_type": "code",
   "execution_count": 80,
   "metadata": {},
   "outputs": [
    {
     "data": {
      "text/plain": [
       "{'left': 0    [1, 2, 3, 4, 5, 4, 6, 7, 8, 9, 10, 8, 11]\n",
       " Name: question1, dtype: object,\n",
       " 'right': 0    [1, 2, 3, 4, 5, 4, 6, 7, 8, 9, 10]\n",
       " Name: question2, dtype: object}"
      ]
     },
     "execution_count": 80,
     "metadata": {},
     "output_type": "execute_result"
    }
   ],
   "source": [
    "X_train"
   ]
  },
  {
   "cell_type": "code",
   "execution_count": 81,
   "metadata": {},
   "outputs": [
    {
     "data": {
      "text/plain": [
       "{'left': 1    [1, 2, 3, 12, 13, 14, 15, 16, 15, 17, 18]\n",
       " Name: question1, dtype: object,\n",
       " 'right': 1    [1, 19, 20, 21, 3, 22, 23, 24, 3, 13, 14, 15, ...\n",
       " Name: question2, dtype: object}"
      ]
     },
     "execution_count": 81,
     "metadata": {},
     "output_type": "execute_result"
    }
   ],
   "source": [
    "X_test"
   ]
  },
  {
   "cell_type": "code",
   "execution_count": 82,
   "metadata": {},
   "outputs": [
    {
     "data": {
      "text/plain": [
       "{'left': 2    [26, 27, 16, 28, 3, 29, 30, 31, 32, 33, 34, 35]\n",
       " Name: question1, dtype: object,\n",
       " 'right': 2    [26, 27, 31, 29, 36, 37, 5, 38, 39, 40]\n",
       " Name: question2, dtype: object}"
      ]
     },
     "execution_count": 82,
     "metadata": {},
     "output_type": "execute_result"
    }
   ],
   "source": [
    "X_validation"
   ]
  },
  {
   "cell_type": "code",
   "execution_count": 101,
   "metadata": {},
   "outputs": [
    {
     "data": {
      "text/plain": [
       "pandas.core.series.Series"
      ]
     },
     "execution_count": 101,
     "metadata": {},
     "output_type": "execute_result"
    }
   ],
   "source": [
    "type(Y_train)"
   ]
  },
  {
   "cell_type": "code",
   "execution_count": null,
   "metadata": {},
   "outputs": [],
   "source": [
    "Y_train = Y_train.values\n",
    "Y_test = Y_test.values\n",
    "Y_validation = Y_validation.values"
   ]
  },
  {
   "cell_type": "code",
   "execution_count": 102,
   "metadata": {},
   "outputs": [
    {
     "data": {
      "text/plain": [
       "pandas.core.series.Series"
      ]
     },
     "execution_count": 102,
     "metadata": {},
     "output_type": "execute_result"
    }
   ],
   "source": [
    "type(Y_train)"
   ]
  },
  {
   "cell_type": "code",
   "execution_count": 93,
   "metadata": {},
   "outputs": [],
   "source": [
    "for dataset, side in itertools.product([X_train, X_validation, X_test], ['left', 'right']):\n",
    "       dataset[side] = pad_sequences(dataset[side], maxlen=maxSeqLength)\n"
   ]
  },
  {
   "cell_type": "code",
   "execution_count": 96,
   "metadata": {},
   "outputs": [
    {
     "data": {
      "text/plain": [
       "array([[ 1, 19, 20, 21,  3, 22, 23, 24,  3, 13, 14, 15, 16, 15, 17, 18,\n",
       "        25]], dtype=int32)"
      ]
     },
     "execution_count": 96,
     "metadata": {},
     "output_type": "execute_result"
    }
   ],
   "source": [
    "dataset['right']"
   ]
  },
  {
   "cell_type": "code",
   "execution_count": 98,
   "metadata": {},
   "outputs": [],
   "source": [
    "# Make sure everything is ok\n",
    "assert X_train['left'].shape == X_train['right'].shape\n",
    "assert len(X_train['left']) == len(Y_train)"
   ]
  },
  {
   "cell_type": "code",
   "execution_count": 100,
   "metadata": {},
   "outputs": [
    {
     "data": {
      "text/plain": [
       "(1, 17)"
      ]
     },
     "execution_count": 100,
     "metadata": {},
     "output_type": "execute_result"
    }
   ],
   "source": [
    "X_train['right'].shape"
   ]
  },
  {
   "cell_type": "code",
   "execution_count": 103,
   "metadata": {},
   "outputs": [],
   "source": [
    "n_hidden = 50\n",
    "gradient_clipping_norm = 1.25\n",
    "batch_size = 64\n",
    "n_epoch = 25\n"
   ]
  },
  {
   "cell_type": "code",
   "execution_count": 104,
   "metadata": {},
   "outputs": [],
   "source": [
    "def exponent_neg_manhattan_distance(left, right):\n",
    "    ''' Helper function for the similarity estimate of the LSTMs outputs'''\n",
    "    return K.exp(-K.sum(K.abs(left-right), axis=1, keepdims=True))"
   ]
  },
  {
   "cell_type": "code",
   "execution_count": 106,
   "metadata": {},
   "outputs": [],
   "source": [
    "left_input = Input(shape=(maxSeqLength,), dtype='int32')\n",
    "right_input = Input(shape=(maxSeqLength,), dtype='int32')"
   ]
  },
  {
   "cell_type": "code",
   "execution_count": 108,
   "metadata": {},
   "outputs": [
    {
     "data": {
      "text/plain": [
       "<tf.Tensor 'input_2:0' shape=(?, 17) dtype=int32>"
      ]
     },
     "execution_count": 108,
     "metadata": {},
     "output_type": "execute_result"
    }
   ],
   "source": [
    "right_input"
   ]
  },
  {
   "cell_type": "code",
   "execution_count": 110,
   "metadata": {},
   "outputs": [],
   "source": [
    "embedding_layer = Embedding(len(embeddings), embeddingDim, weights=[embeddings], input_length=maxSeqLength, trainable=False)"
   ]
  },
  {
   "cell_type": "code",
   "execution_count": 111,
   "metadata": {},
   "outputs": [],
   "source": [
    "encoded_left = embedding_layer(left_input)\n",
    "encoded_right = embedding_layer(right_input)\n"
   ]
  },
  {
   "cell_type": "code",
   "execution_count": 114,
   "metadata": {},
   "outputs": [],
   "source": [
    "shared_lstm = Bidirectional(LSTM(n_hidden))"
   ]
  },
  {
   "cell_type": "code",
   "execution_count": 115,
   "metadata": {},
   "outputs": [],
   "source": [
    "left_output = shared_lstm(encoded_left)\n",
    "right_output = shared_lstm(encoded_right)\n"
   ]
  },
  {
   "cell_type": "code",
   "execution_count": 116,
   "metadata": {},
   "outputs": [],
   "source": [
    "malstm_distance = Lambda(function=lambda x: exponent_neg_manhattan_distance(x[0], x[1]),output_shape=lambda x: (x[0][0], 1))([left_output, right_output])"
   ]
  },
  {
   "cell_type": "code",
   "execution_count": 117,
   "metadata": {},
   "outputs": [
    {
     "data": {
      "text/plain": [
       "<tf.Tensor 'lambda_1/Exp:0' shape=(?, 1) dtype=float32>"
      ]
     },
     "execution_count": 117,
     "metadata": {},
     "output_type": "execute_result"
    }
   ],
   "source": [
    "malstm_distance"
   ]
  },
  {
   "cell_type": "code",
   "execution_count": 118,
   "metadata": {},
   "outputs": [
    {
     "name": "stderr",
     "output_type": "stream",
     "text": [
      "/home/sathis/anaconda3/envs/myenv/lib/python3.6/site-packages/ipykernel_launcher.py:13: UserWarning: The `nb_epoch` argument in `fit` has been renamed `epochs`.\n",
      "  del sys.path[0]\n"
     ]
    },
    {
     "name": "stdout",
     "output_type": "stream",
     "text": [
      "Train on 1 samples, validate on 1 samples\n",
      "Epoch 1/25\n",
      "1/1 [==============================] - 1s 1s/step - loss: 0.0036 - acc: 1.0000 - val_loss: 0.0044 - val_acc: 1.0000\n",
      "Epoch 2/25\n",
      "1/1 [==============================] - 0s 30ms/step - loss: 0.0018 - acc: 1.0000 - val_loss: 0.0043 - val_acc: 1.0000\n",
      "Epoch 3/25\n",
      "1/1 [==============================] - 0s 43ms/step - loss: 0.0013 - acc: 1.0000 - val_loss: 0.0043 - val_acc: 1.0000\n",
      "Epoch 4/25\n",
      "1/1 [==============================] - 0s 37ms/step - loss: 9.9587e-04 - acc: 1.0000 - val_loss: 0.0043 - val_acc: 1.0000\n",
      "Epoch 5/25\n",
      "1/1 [==============================] - 0s 43ms/step - loss: 8.1795e-04 - acc: 1.0000 - val_loss: 0.0043 - val_acc: 1.0000\n",
      "Epoch 6/25\n",
      "1/1 [==============================] - 0s 30ms/step - loss: 6.9576e-04 - acc: 1.0000 - val_loss: 0.0043 - val_acc: 1.0000\n",
      "Epoch 7/25\n",
      "1/1 [==============================] - 0s 36ms/step - loss: 6.0630e-04 - acc: 1.0000 - val_loss: 0.0043 - val_acc: 1.0000\n",
      "Epoch 8/25\n",
      "1/1 [==============================] - 0s 38ms/step - loss: 5.3778e-04 - acc: 1.0000 - val_loss: 0.0043 - val_acc: 1.0000\n",
      "Epoch 9/25\n",
      "1/1 [==============================] - 0s 50ms/step - loss: 4.8352e-04 - acc: 1.0000 - val_loss: 0.0043 - val_acc: 1.0000\n",
      "Epoch 10/25\n",
      "1/1 [==============================] - 0s 35ms/step - loss: 4.3944e-04 - acc: 1.0000 - val_loss: 0.0043 - val_acc: 1.0000\n",
      "Epoch 11/25\n",
      "1/1 [==============================] - 0s 40ms/step - loss: 4.0289e-04 - acc: 1.0000 - val_loss: 0.0043 - val_acc: 1.0000\n",
      "Epoch 12/25\n",
      "1/1 [==============================] - 0s 42ms/step - loss: 3.7206e-04 - acc: 1.0000 - val_loss: 0.0043 - val_acc: 1.0000\n",
      "Epoch 13/25\n",
      "1/1 [==============================] - 0s 51ms/step - loss: 3.4570e-04 - acc: 1.0000 - val_loss: 0.0043 - val_acc: 1.0000\n",
      "Epoch 14/25\n",
      "1/1 [==============================] - 0s 44ms/step - loss: 3.2289e-04 - acc: 1.0000 - val_loss: 0.0043 - val_acc: 1.0000\n",
      "Epoch 15/25\n",
      "1/1 [==============================] - 0s 26ms/step - loss: 3.0295e-04 - acc: 1.0000 - val_loss: 0.0043 - val_acc: 1.0000\n",
      "Epoch 16/25\n",
      "1/1 [==============================] - 0s 46ms/step - loss: 2.8536e-04 - acc: 1.0000 - val_loss: 0.0043 - val_acc: 1.0000\n",
      "Epoch 17/25\n",
      "1/1 [==============================] - 0s 35ms/step - loss: 2.6974e-04 - acc: 1.0000 - val_loss: 0.0043 - val_acc: 1.0000\n",
      "Epoch 18/25\n",
      "1/1 [==============================] - 0s 39ms/step - loss: 2.5576e-04 - acc: 1.0000 - val_loss: 0.0043 - val_acc: 1.0000\n",
      "Epoch 19/25\n",
      "1/1 [==============================] - 0s 37ms/step - loss: 2.4318e-04 - acc: 1.0000 - val_loss: 0.0043 - val_acc: 1.0000\n",
      "Epoch 20/25\n",
      "1/1 [==============================] - 0s 39ms/step - loss: 2.3179e-04 - acc: 1.0000 - val_loss: 0.0043 - val_acc: 1.0000\n",
      "Epoch 21/25\n",
      "1/1 [==============================] - 0s 30ms/step - loss: 2.2144e-04 - acc: 1.0000 - val_loss: 0.0043 - val_acc: 1.0000\n",
      "Epoch 22/25\n",
      "1/1 [==============================] - 0s 41ms/step - loss: 2.1198e-04 - acc: 1.0000 - val_loss: 0.0043 - val_acc: 1.0000\n",
      "Epoch 23/25\n",
      "1/1 [==============================] - 0s 45ms/step - loss: 2.0331e-04 - acc: 1.0000 - val_loss: 0.0043 - val_acc: 1.0000\n",
      "Epoch 24/25\n",
      "1/1 [==============================] - 0s 45ms/step - loss: 1.9533e-04 - acc: 1.0000 - val_loss: 0.0043 - val_acc: 1.0000\n",
      "Epoch 25/25\n",
      "1/1 [==============================] - 0s 34ms/step - loss: 1.8795e-04 - acc: 1.0000 - val_loss: 0.0043 - val_acc: 1.0000\n",
      "Training time finished.\n",
      "25 epochs in 0:00:04.147217\n"
     ]
    }
   ],
   "source": [
    "# Pack it all up into a model\n",
    "malstm = Model([left_input, right_input], [malstm_distance])\n",
    "\n",
    "# Adadelta optimizer, with gradient clipping by norm\n",
    "optimizer = Adadelta(clipnorm=gradient_clipping_norm)\n",
    "\n",
    "malstm.compile(loss='mean_squared_error', optimizer=optimizer, metrics=['accuracy'])\n",
    "\n",
    "# Start training\n",
    "training_start_time = time()\n",
    "\n",
    "malstm_trained = malstm.fit([X_train['left'], X_train['right']], Y_train, batch_size=batch_size, nb_epoch=n_epoch,\n",
    "                            validation_data=([X_validation['left'], X_validation['right']], Y_validation))\n",
    "\n",
    "print(\"Training time finished.\\n{} epochs in {}\".format(n_epoch, datetime.timedelta(seconds=time()-training_start_time)))"
   ]
  },
  {
   "cell_type": "code",
   "execution_count": 119,
   "metadata": {},
   "outputs": [
    {
     "data": {
      "image/png": "[encoded data removed]",
      "text/plain": [
       "<Figure size 432x288 with 1 Axes>"
      ]
     },
     "metadata": {
      "needs_background": "light"
     },
     "output_type": "display_data"
    },
    {
     "data": {
      "image/png": "[encoded data removed]",
      "text/plain": [
       "<Figure size 432x288 with 1 Axes>"
      ]
     },
     "metadata": {
      "needs_background": "light"
     },
     "output_type": "display_data"
    }
   ],
   "source": [
    "# Plot accuracy\n",
    "plt.plot(malstm_trained.history['acc'])\n",
    "plt.plot(malstm_trained.history['val_acc'])\n",
    "plt.title('Model Accuracy')\n",
    "plt.ylabel('Accuracy')\n",
    "plt.xlabel('Epoch')\n",
    "plt.legend(['Train', 'Validation'], loc='upper left')\n",
    "plt.show()\n",
    "\n",
    "# Plot loss\n",
    "plt.plot(malstm_trained.history['loss'])\n",
    "plt.plot(malstm_trained.history['val_loss'])\n",
    "plt.title('Model Loss')\n",
    "plt.ylabel('Loss')\n",
    "plt.xlabel('Epoch')\n",
    "plt.legend(['Train', 'Validation'], loc='upper right')\n",
    "plt.show()"
   ]
  },
  {
   "cell_type": "code",
   "execution_count": 121,
   "metadata": {},
   "outputs": [
    {
     "name": "stdout",
     "output_type": "stream",
     "text": [
      "acc: 100.00%\n"
     ]
    }
   ],
   "source": [
    "# evaluate the model\n",
    "scores = malstm.evaluate([X_test['left'], X_test['right']], Y_test, verbose=0)\n",
    "print(\"%s: %.2f%%\" % (malstm.metrics_names[1], scores[1]*100))"
   ]
  },
  {
   "cell_type": "code",
   "execution_count": null,
   "metadata": {},
   "outputs": [],
   "source": []
  },
  {
   "cell_type": "code",
   "execution_count": null,
   "metadata": {},
   "outputs": [],
   "source": []
  },
  {
   "cell_type": "code",
   "execution_count": null,
   "metadata": {},
   "outputs": [],
   "source": []
  },
  {
   "cell_type": "code",
   "execution_count": null,
   "metadata": {},
   "outputs": [],
   "source": []
  }
 ],
 "metadata": {
  "kernelspec": {
   "display_name": "myenv",
   "language": "python",
   "name": "myenv"
  },
  "language_info": {
   "codemirror_mode": {
    "name": "ipython",
    "version": 3
   },
   "file_extension": ".py",
   "mimetype": "text/x-python",
   "name": "python",
   "nbconvert_exporter": "python",
   "pygments_lexer": "ipython3",
   "version": "3.6.6"
  }
 },
 "nbformat": 4,
 "nbformat_minor": 2
}
